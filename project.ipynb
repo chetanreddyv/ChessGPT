{
 "cells": [
  {
   "cell_type": "code",
   "execution_count": 3,
   "metadata": {},
   "outputs": [],
   "source": [
    "import pandas as pd\n",
    "import torch\n",
    "import torch.nn as nn\n",
    "import torch.optim as optim\n",
    "from torch.utils.data import Dataset, DataLoader\n",
    "from sklearn.model_selection import train_test_split"
   ]
  },
  {
   "cell_type": "code",
   "execution_count": null,
   "metadata": {},
   "outputs": [
    {
     "name": "stderr",
     "output_type": "stream",
     "text": [
      "/var/folders/9g/dbdmmkg566z9ggvvd04r5nfm0000gn/T/ipykernel_4562/3649218835.py:16: SettingWithCopyWarning: \n",
      "A value is trying to be set on a copy of a slice from a DataFrame.\n",
      "Try using .loc[row_indexer,col_indexer] = value instead\n",
      "\n",
      "See the caveats in the documentation: https://pandas.pydata.org/pandas-docs/stable/user_guide/indexing.html#returning-a-view-versus-a-copy\n",
      "  cleaned_df['Event'] = cleaned_df['Event'].str.strip()\n"
     ]
    }
   ],
   "source": [
    "\n",
    "\n",
    "# Load data from CSV file\n",
    "file_path = '/Users/chetan/Downloads/chess_games.csv'\n",
    "df = pd.read_csv(file_path)\n",
    "\n",
    "# Select only the required columns\n",
    "cleaned_df = df[['Event', 'Result', 'WhiteElo', 'BlackElo', 'AN']]\n",
    "\n",
    "# Clean up the 'Event' column using .loc\n",
    "cleaned_df['Event'] = cleaned_df['Event'].str.strip()\n",
    "\n",
    "# Filter the DataFrame\n",
    "final_df = cleaned_df[(cleaned_df['Event'] == 'Classical') & ((cleaned_df['WhiteElo'] > 1800) | (cleaned_df['BlackElo'] > 1800))]\n",
    "\n",
    "# Save the cleaned and filtered DataFrame to a new CSV file\n",
    "final_df.to_csv('final_chess_games.csv', index=False)\n",
    "\n"
   ]
  },
  {
   "cell_type": "code",
   "execution_count": 4,
   "metadata": {},
   "outputs": [],
   "source": [
    "final_df = pd.read_csv('final_chess_games.csv')"
   ]
  },
  {
   "cell_type": "code",
   "execution_count": null,
   "metadata": {},
   "outputs": [
    {
     "name": "stdout",
     "output_type": "stream",
     "text": [
      "<class 'pandas.core.frame.DataFrame'>\n",
      "RangeIndex: 621499 entries, 0 to 621498\n",
      "Data columns (total 2 columns):\n",
      " #   Column  Non-Null Count   Dtype \n",
      "---  ------  --------------   ----- \n",
      " 0   Result  621499 non-null  object\n",
      " 1   AN      621499 non-null  object\n",
      "dtypes: object(2)\n",
      "memory usage: 9.5+ MB\n"
     ]
    }
   ],
   "source": [
    "final_df = final_df[['Result', 'AN']]\n",
    "final_df.head()\n",
    "final_df.info()"
   ]
  },
  {
   "cell_type": "code",
   "execution_count": 11,
   "metadata": {},
   "outputs": [
    {
     "name": "stdout",
     "output_type": "stream",
     "text": [
      "Preprocessing data...\n",
      "Data preprocessing completed.\n"
     ]
    }
   ],
   "source": [
    "import pandas as pd\n",
    "import torch\n",
    "from torch.utils.data import Dataset, DataLoader\n",
    "from sklearn.model_selection import train_test_split\n",
    "\n",
    "# Preprocess the data\n",
    "def preprocess_data(df):\n",
    "    sequences = []\n",
    "    for index, row in df.iterrows():\n",
    "        moves = row['AN'].split()\n",
    "        sequences.append(moves)\n",
    "    return sequences\n",
    "\n",
    "print(\"Preprocessing data...\")\n",
    "sequences = preprocess_data(final_df)\n",
    "print(\"Data preprocessing completed.\")"
   ]
  },
  {
   "cell_type": "code",
   "execution_count": 12,
   "metadata": {},
   "outputs": [
    {
     "name": "stdout",
     "output_type": "stream",
     "text": [
      "Creating datasets...\n",
      "Datasets created.\n",
      "Data loaders initialized.\n"
     ]
    }
   ],
   "source": [
    "class ChessDataset(Dataset):\n",
    "    def __init__(self, sequences, vocab, max_length):\n",
    "        self.sequences = sequences\n",
    "        self.vocab = vocab\n",
    "        self.max_length = max_length\n",
    "\n",
    "    def __len__(self):\n",
    "        return len(self.sequences)\n",
    "\n",
    "    def __getitem__(self, idx):\n",
    "        sequence = self.sequences[idx]\n",
    "        input_seq = [self.vocab[move] for move in sequence[:-1]]\n",
    "        target_seq = [self.vocab[move] for move in sequence[1:]]\n",
    "\n",
    "        # Pad sequences\n",
    "        input_seq = input_seq + [self.vocab['<pad>']] * (self.max_length - len(input_seq))\n",
    "        target_seq = target_seq + [self.vocab['<pad>']] * (self.max_length - len(target_seq))\n",
    "\n",
    "        return torch.tensor(input_seq), torch.tensor(target_seq)\n",
    "\n",
    "# Build vocabulary\n",
    "all_moves = [move for seq in sequences for move in seq]\n",
    "vocab = {move: idx for idx, move in enumerate(set(all_moves))}\n",
    "vocab['<pad>'] = len(vocab)  # Add padding token\n",
    "vocab_size = len(vocab)\n",
    "\n",
    "# Determine the maximum sequence length\n",
    "max_length = max(len(seq) for seq in sequences) - 1\n",
    "\n",
    "print(\"Creating datasets...\")\n",
    "train_sequences, val_sequences = train_test_split(sequences, test_size=0.2, random_state=42)\n",
    "train_dataset = ChessDataset(train_sequences, vocab, max_length)\n",
    "val_dataset = ChessDataset(val_sequences, vocab, max_length)\n",
    "print(\"Datasets created.\")\n",
    "\n",
    "train_loader = DataLoader(train_dataset, batch_size=32, shuffle=True)\n",
    "val_loader = DataLoader(val_dataset, batch_size=32, shuffle=False)\n",
    "print(\"Data loaders initialized.\")"
   ]
  },
  {
   "cell_type": "code",
   "execution_count": null,
   "metadata": {},
   "outputs": [
    {
     "name": "stdout",
     "output_type": "stream",
     "text": [
      "Initializing model, loss function, and optimizer...\n"
     ]
    },
    {
     "name": "stderr",
     "output_type": "stream",
     "text": [
      "/Users/chetan/anaconda3/lib/python3.11/site-packages/torch/nn/modules/transformer.py:379: UserWarning: enable_nested_tensor is True, but self.use_nested_tensor is False because encoder_layer.self_attn.batch_first was not True(use batch_first for better inference performance)\n",
      "  warnings.warn(\n"
     ]
    },
    {
     "name": "stdout",
     "output_type": "stream",
     "text": [
      "Model, loss function, and optimizer initialized.\n"
     ]
    },
    {
     "ename": "",
     "evalue": "",
     "output_type": "error",
     "traceback": [
      "\u001b[1;31mThe Kernel crashed while executing code in the current cell or a previous cell. \n",
      "\u001b[1;31mPlease review the code in the cell(s) to identify a possible cause of the failure. \n",
      "\u001b[1;31mClick <a href='https://aka.ms/vscodeJupyterKernelCrash'>here</a> for more info. \n",
      "\u001b[1;31mView Jupyter <a href='command:jupyter.viewOutput'>log</a> for further details."
     ]
    }
   ],
   "source": [
    "import torch.nn as nn\n",
    "import torch.optim as optim\n",
    "\n",
    "class TransformerModel(nn.Module):\n",
    "    def __init__(self, vocab_size, d_model, nhead, num_encoder_layers, num_decoder_layers, dim_feedforward, dropout=0.1):\n",
    "        super(TransformerModel, self).__init__()\n",
    "        self.embedding = nn.Embedding(vocab_size, d_model)\n",
    "        self.transformer = nn.Transformer(d_model, nhead, num_encoder_layers, num_decoder_layers, dim_feedforward, dropout)\n",
    "        self.fc = nn.Linear(d_model, vocab_size)\n",
    "\n",
    "    def forward(self, src, tgt):\n",
    "        src = self.embedding(src)\n",
    "        tgt = self.embedding(tgt)\n",
    "        output = self.transformer(src, tgt)\n",
    "        output = self.fc(output)\n",
    "        return output\n",
    "\n",
    "# Hyperparameters\n",
    "d_model = 512\n",
    "nhead = 8\n",
    "num_encoder_layers = 6\n",
    "num_decoder_layers = 6\n",
    "dim_feedforward = 2048\n",
    "dropout = 0.1\n",
    "\n",
    "print(\"Initializing model, loss function, and optimizer...\")\n",
    "model = TransformerModel(vocab_size, d_model, nhead, num_encoder_layers, num_decoder_layers, dim_feedforward, dropout)\n",
    "criterion = nn.CrossEntropyLoss(ignore_index=vocab['<pad>'])  # Ignore padding token in loss calculation\n",
    "optimizer = optim.Adam(model.parameters(), lr=0.001)\n",
    "print(\"Model, loss function, and optimizer initialized.\")"
   ]
  },
  {
   "cell_type": "code",
   "execution_count": null,
   "metadata": {},
   "outputs": [
    {
     "name": "stdout",
     "output_type": "stream",
     "text": [
      "Starting training...\n"
     ]
    }
   ],
   "source": [
    "# Training loop\n",
    "num_epochs = 10\n",
    "checkpoint_interval = 2  # Save checkpoint every 2 epochs\n",
    "\n",
    "print(\"Starting training...\")\n",
    "for epoch in range(num_epochs):\n",
    "    model.train()\n",
    "    train_loss = 0\n",
    "    for batch_idx, (src, tgt) in enumerate(train_loader):\n",
    "        optimizer.zero_grad()\n",
    "        output = model(src, tgt)\n",
    "        loss = criterion(output.view(-1, vocab_size), tgt.view(-1))\n",
    "        loss.backward()\n",
    "        optimizer.step()\n",
    "        train_loss += loss.item()\n",
    "        if batch_idx % 100 == 0:\n",
    "            print(f\"Epoch {epoch+1}, Batch {batch_idx}, Loss: {loss.item()}\")\n",
    "\n",
    "    print(f\"Epoch {epoch+1} training completed. Average Loss: {train_loss/len(train_loader)}\")\n",
    "\n",
    "    model.eval()\n",
    "    val_loss = 0\n",
    "    with torch.no_grad():\n",
    "        for src, tgt in val_loader:\n",
    "            output = model(src, tgt)\n",
    "            loss = criterion(output.view(-1, vocab_size), tgt.view(-1))\n",
    "            val_loss += loss.item()\n",
    "\n",
    "    print(f\"Epoch {epoch+1}, Validation Loss: {val_loss/len(val_loader)}\")\n",
    "\n",
    "    if (epoch + 1) % checkpoint_interval == 0:\n",
    "        checkpoint_path = f'transformer_model_epoch_{epoch+1}.pth'\n",
    "        torch.save(model.state_dict(), checkpoint_path)\n",
    "        print(f\"Checkpoint saved at {checkpoint_path}\")\n",
    "\n",
    "# Save the final model\n",
    "torch.save(model.state_dict(), 'transformer_model_final.pth')\n",
    "print(\"Training completed and model saved.\")"
   ]
  },
  {
   "cell_type": "code",
   "execution_count": null,
   "metadata": {},
   "outputs": [],
   "source": [
    "def generate_moves(model, start_sequence, max_length=50):\n",
    "    model.eval()\n",
    "    input_seq = [vocab[move] for move in start_sequence]\n",
    "    input_tensor = torch.tensor(input_seq).unsqueeze(1)  # Add batch dimension\n",
    "    generated_moves = start_sequence\n",
    "\n",
    "    for _ in range(max_length):\n",
    "        output = model(input_tensor, input_tensor)\n",
    "        next_move_idx = output.argmax(dim=-1)[-1].item()\n",
    "        next_move = list(vocab.keys())[list(vocab.values()).index(next_move_idx)]\n",
    "        generated_moves.append(next_move)\n",
    "        input_tensor = torch.cat((input_tensor, torch.tensor([[next_move_idx]])), dim=0)\n",
    "\n",
    "        if next_move == '#':  # Assuming '#' is the end token\n",
    "            break\n",
    "\n",
    "    return generated_moves\n",
    "\n",
    "# Example usage\n",
    "start_sequence = ['1.', 'e4', 'e5', '2.', 'Nf3', 'Nc6']\n",
    "generated_moves = generate_moves(model, start_sequence)\n",
    "print(\"Generated moves:\", ' '.join(generated_moves))"
   ]
  },
  {
   "cell_type": "code",
   "execution_count": null,
   "metadata": {},
   "outputs": [],
   "source": [
    "import pandas as pd\n",
    "import torch\n",
    "from torch.utils.data import Dataset, DataLoader\n",
    "from sklearn.model_selection import train_test_split\n",
    "\n",
    "# Preprocess the data\n",
    "def preprocess_data(df):\n",
    "    sequences = []\n",
    "    for index, row in df.iterrows():\n",
    "        moves = row['AN'].split()\n",
    "        sequences.append(moves)\n",
    "    return sequences\n",
    "\n",
    "print(\"Preprocessing data...\")\n",
    "sequences = preprocess_data(final_df)\n",
    "print(\"Data preprocessing completed.\")"
   ]
  },
  {
   "cell_type": "code",
   "execution_count": null,
   "metadata": {},
   "outputs": [],
   "source": [
    "import pandas as pd\n",
    "import torch\n",
    "from torch.utils.data import Dataset, DataLoader\n",
    "from sklearn.model_selection import train_test_split\n",
    "\n",
    "# Preprocess the data\n",
    "def preprocess_data(df):\n",
    "    sequences = []\n",
    "    for index, row in df.iterrows():\n",
    "        moves = row['AN'].split()\n",
    "        sequences.append(moves)\n",
    "    return sequences\n",
    "\n",
    "print(\"Preprocessing data...\")\n",
    "sequences = preprocess_data(final_df)\n",
    "print(\"Data preprocessing completed.\")"
   ]
  }
 ],
 "metadata": {
  "kernelspec": {
   "display_name": "base",
   "language": "python",
   "name": "python3"
  },
  "language_info": {
   "codemirror_mode": {
    "name": "ipython",
    "version": 3
   },
   "file_extension": ".py",
   "mimetype": "text/x-python",
   "name": "python",
   "nbconvert_exporter": "python",
   "pygments_lexer": "ipython3",
   "version": "3.11.5"
  }
 },
 "nbformat": 4,
 "nbformat_minor": 2
}
